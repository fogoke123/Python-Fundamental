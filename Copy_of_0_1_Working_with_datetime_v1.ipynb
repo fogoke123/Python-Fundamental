{
  "nbformat": 4,
  "nbformat_minor": 0,
  "metadata": {
    "colab": {
      "name": "Copy of 0.1 Working with datetime_v1.ipynb",
      "provenance": [],
      "collapsed_sections": [],
      "include_colab_link": true
    },
    "kernelspec": {
      "name": "python3",
      "display_name": "Python 3"
    },
    "language_info": {
      "name": "python"
    }
  },
  "cells": [
    {
      "cell_type": "markdown",
      "metadata": {
        "id": "view-in-github",
        "colab_type": "text"
      },
      "source": [
        "<a href=\"https://colab.research.google.com/github/fogoke123/Python-Fundamental/blob/main/Copy_of_0_1_Working_with_datetime_v1.ipynb\" target=\"_parent\"><img src=\"https://colab.research.google.com/assets/colab-badge.svg\" alt=\"Open In Colab\"/></a>"
      ]
    },
    {
      "cell_type": "markdown",
      "metadata": {
        "id": "7iQyKP-SQiw1"
      },
      "source": [
        "# User-defined functions using datetime library\n",
        "\n",
        "---\n"
      ]
    },
    {
      "cell_type": "markdown",
      "metadata": {
        "id": "Vi93h5I4QnKs"
      },
      "source": [
        "When working with dates and times, fairly common in data sets, we need to be able to extract certain bits of information.  \n",
        "\n",
        "In Python, as with other languages, dates and times are stored in a data structure that combines the two together and stores the information as a number of seconds since a start point (often 1st January 1900).  This is obviously a large number but every bit of information about a date can be extracted from it and used to give a wide range of information.  \n",
        "\n",
        "Have a go at the exercises below to use a selection of datetime functions and return a new bit of data from each, to be printed by the caller.\n",
        "\n",
        "Before you can use datetime functions you will need to import them. Import the datetime functions like this:\n",
        "\n",
        "`from datetime import datetime`  \n",
        "\n",
        "\n",
        "For more information about datetime functions visit [w3Schools-Python datetime](https://www.w3schools.com/python/python_datetime.asp) and [Python docs](https://docs.python.org/3/library/datetime.html)"
      ]
    },
    {
      "cell_type": "markdown",
      "metadata": {
        "id": "MIDLi7CNR034"
      },
      "source": [
        "---\n",
        "### Exercise 1 - getting the current date and time\n",
        "\n",
        "Write a function called **get_datetime_now()** that will `return` the date and time now. \n",
        "\n",
        "*Hint:  the format has been added for you, the other exercises will follow a similar format.   Always remember to import datetime from datetime as shown below*"
      ]
    },
    {
      "cell_type": "code",
      "metadata": {
        "id": "gS6GJdXbQfHp",
        "colab": {
          "base_uri": "https://localhost:8080/"
        },
        "outputId": "a4ed0644-5f06-4577-8327-e12e7ac6dd33"
      },
      "source": [
        "from datetime import datetime, timezone\n",
        "\n",
        "def get_datetime_now():\n",
        "  # add code below to get the date and time right now \n",
        "\n",
        "  datenow = datetime.now()\n",
        "  return(datenow)\n",
        "\n",
        "# This code will run and test if current date is being returned\n",
        "actual = get_datetime_now().strftime('%Y-%m-%d')\n",
        "expected = datetime.now(timezone.utc).strftime('%Y-%m-%d')\n",
        "\n",
        "if actual == expected:\n",
        "  print(\"Test passed\", actual)\n",
        "else:\n",
        "  print(\"Test failed expected\", expected, \"got\", actual)\n",
        "get_datetime_now()"
      ],
      "execution_count": 7,
      "outputs": [
        {
          "output_type": "stream",
          "name": "stdout",
          "text": [
            "Test passed 2022-03-28\n"
          ]
        },
        {
          "output_type": "execute_result",
          "data": {
            "text/plain": [
              "datetime.datetime(2022, 3, 28, 9, 1, 2, 25753)"
            ]
          },
          "metadata": {},
          "execution_count": 7
        }
      ]
    },
    {
      "cell_type": "markdown",
      "metadata": {
        "id": "Yy24sL0bUtpF"
      },
      "source": [
        "\n",
        "###Exercise 2 - getting the current year\n",
        "---\n",
        "\n",
        "Write a function called **get_current_year()** that will `return` the current year. "
      ]
    },
    {
      "cell_type": "code",
      "metadata": {
        "id": "YqlQqPIqUtyr",
        "colab": {
          "base_uri": "https://localhost:8080/",
          "height": 53
        },
        "outputId": "fe64eee5-35d6-4a86-ed1d-c84bab30504c"
      },
      "source": [
        "from datetime import datetime, timezone\n",
        "def get_current_year():\n",
        "  # add code below to get the current year\n",
        "  \n",
        "  currentDateTime = datetime.now()\n",
        "  date = currentDateTime.date()\n",
        "  current_year = date.strftime(\"%Y\")\n",
        "  return current_year\n",
        "\n",
        "\n",
        "# This code will run the function and test whether the current year is being returned \n",
        "actual = get_current_year()\n",
        "expected = datetime.now(timezone.utc).strftime('%Y')\n",
        "\n",
        "if actual == expected:\n",
        "  print(\"Test passed\", actual)\n",
        "else:\n",
        "  print(\"Test failed expected\", expected, \"got\", actual)\n",
        "get_current_year()"
      ],
      "execution_count": 12,
      "outputs": [
        {
          "output_type": "stream",
          "name": "stdout",
          "text": [
            "Test passed 2022\n"
          ]
        },
        {
          "output_type": "execute_result",
          "data": {
            "text/plain": [
              "'2022'"
            ],
            "application/vnd.google.colaboratory.intrinsic+json": {
              "type": "string"
            }
          },
          "metadata": {},
          "execution_count": 12
        }
      ]
    },
    {
      "cell_type": "markdown",
      "metadata": {
        "id": "FzSVCaJKV1O1"
      },
      "source": [
        "---\n",
        "### Exercise 3 - print the current day of the week\n",
        "\n",
        "Write a function called **get_current_day()** that will `return` the current day of the week."
      ]
    },
    {
      "cell_type": "code",
      "metadata": {
        "id": "OP4ZIXBWV1Yj",
        "colab": {
          "base_uri": "https://localhost:8080/"
        },
        "outputId": "481b3e02-7d12-45b2-e232-9fc51ae9b909"
      },
      "source": [
        "from datetime import date\n",
        "def get_current_day():\n",
        "  # add code to return the current day of the week \n",
        "  \n",
        "  today = date.today()\n",
        "  d2 = today.strftime(\"%B %d, %Y\")\n",
        "  print(d2)\n",
        "  \n",
        "\n",
        "  \n",
        "\n",
        "\n",
        "# run and test to see if current day is being returned\n",
        "\n",
        "actual = get_current_day()\n",
        "expected = datetime.now(timezone.utc).strftime('%A')\n",
        "\n",
        "\n",
        "if actual == expected:\n",
        "  print(\"Test passed\", actual)\n",
        "else:\n",
        "  print(\"Test failed expected\", expected, \"got\", actual)"
      ],
      "execution_count": 19,
      "outputs": [
        {
          "output_type": "stream",
          "name": "stdout",
          "text": [
            "March 28, 2022\n",
            "Test failed expected Monday got None\n"
          ]
        }
      ]
    },
    {
      "cell_type": "markdown",
      "metadata": {
        "id": "a8euCtdmWIDE"
      },
      "source": [
        "---\n",
        "### Exercise 4 - create a new date\n",
        "\n",
        "Write a function called **create_new_date()** that will take 3 parameters, year, month, day (3 numbers that make a valid date) and will create, and `return` a new date. "
      ]
    },
    {
      "cell_type": "code",
      "metadata": {
        "id": "FbOFnTwnWILN",
        "colab": {
          "base_uri": "https://localhost:8080/"
        },
        "outputId": "583bbca2-5cb1-432d-e50e-ccafe75a6a15"
      },
      "source": [
        "import datetime\n",
        "def create_new_date():\n",
        "  # add code below to return a datetime date using the given parameters\n",
        "  #mydate = datetime.datetime(year,month,day)\n",
        "  mydate = datetime.datetime(2022,3,28)\n",
        "  print(mydate)\n",
        "\n",
        "\n",
        "   \n",
        "\n",
        "# run and test if returned date is in datetime format\n",
        "\n",
        "#if isinstance(create_new_date(2022,3,28), datetime) == True:\n",
        "  #print(\"Test passed\")\n",
        "#else:\n",
        "  #print(\"Test failed, expected datetime object\")\n",
        "create_new_date()"
      ],
      "execution_count": 39,
      "outputs": [
        {
          "output_type": "stream",
          "name": "stdout",
          "text": [
            "2022-03-28 00:00:00\n"
          ]
        }
      ]
    },
    {
      "cell_type": "markdown",
      "metadata": {
        "id": "f5SKVuE0WfcE"
      },
      "source": [
        "---\n",
        "### Exercise 5 - create a valid date\n",
        "\n",
        "Write a function called **create_valid_date():** that will take 3 parameters, year, month, day (3 numbers) and will:  \n",
        "*   check that the month is between 1 and 12  \n",
        "*   check that the day is valid for the month (e.g. if the month is 2, then the day must be between 1 and 28 (don't worry about leap years for the moment)  \n",
        "*   if the date is not valid, print an error message and `return` None \n",
        "*   if the date is valid, store it in a new variable, `return` the variable "
      ]
    },
    {
      "cell_type": "code",
      "metadata": {
        "id": "gclt-f9-XfdG"
      },
      "source": [
        "from datetime import datetime\n",
        "\n",
        "def create_valid_date(year, month, day):\n",
        "  # add code below to do as explained above\n",
        "\n",
        "  print(day,month,year)\n",
        "  is_date = False\n",
        "  if 1 <= month <=12:\n",
        "    if month == 2:\n",
        "      if 1<=day<=28:\n",
        "        is_date = True\n",
        "    elif month in (1,3,5,7,8,10,12):\n",
        "      if 1 <=day <=31:\n",
        "        is_date = True\n",
        "    elif month in (4,6,9,11):\n",
        "      if 1 <= day <= 30:\n",
        "        is_date = True\n",
        "  if is_date == True:  \n",
        "    mydate = datetime.date(year,month,day)\n",
        "  else:\n",
        "    mydate = None\n",
        "    print(\"invalid date\")\n",
        "  return(mydate)\n",
        "\n",
        "print(create_new_date(31,9,2001))\n",
        "\n",
        " \n",
        "\n",
        "\n",
        "\n",
        "\n",
        "\n"
      ],
      "execution_count": 53,
      "outputs": []
    },
    {
      "cell_type": "markdown",
      "metadata": {
        "id": "js7fy2HWXfm2"
      },
      "source": [
        "---\n",
        "### Exercise 6 - is it a leap year?\n",
        "\n",
        "Write a function called **is_leap_year()** that will take a date as a single tuple as a parameter and will determine if it is a leap year and `return` True or False.\n",
        "\n",
        "*Hint:  a leap year is a year that is divisible by 4 but the centuries (1900, 2000, etc are only leap years if they are divisible by 400)*"
      ]
    },
    {
      "cell_type": "code",
      "metadata": {
        "id": "KY1jtf3lX_ps"
      },
      "source": [
        "from datetime import datetime\n",
        "def is_leap_year(date_to_check):\n",
        "  # add your code below here\n",
        "  print(date_to_check)\n",
        "  myYear = int(date_to_check.strftime(\"%Y\"))#returns a str so cast as an int\n",
        "  print(myYear)\n",
        "\n",
        "  answer = False # so have to prove it is true\n",
        "  if myYear%4 == 0:\n",
        "    if myYear%100 ==0:\n",
        "      if myYear%400 ==0:\n",
        "        answer = True\n",
        "#      else:# not div 400\n",
        "#    else: # not div 100\n",
        "#  else: #not div 4\n",
        "\n",
        "  return(answer)\n",
        "\n",
        "check_date = datetime(2401, 12, 15)\n",
        "if is_leap_year(check_date):\n",
        "  print(check_date.strftime(\"%Y\"), \"is a leap year\")\n",
        "else:\n",
        "  print(check_date.strftime(\"%Y\"), \"is not a leap year\")\n"
      ],
      "execution_count": null,
      "outputs": []
    },
    {
      "cell_type": "markdown",
      "metadata": {
        "id": "9BuRDi08YAO0"
      },
      "source": [
        "---\n",
        "### Exercise 7 - display parts of date/time\n",
        "\n",
        "Write a function called **get_datetime_parts()** that will take a date and `return` the following:  \n",
        "*  given date and time  \n",
        "*  year (in full) \n",
        "*  month (as a number) \n",
        "*  month name \n",
        "*  week number of the year  \n",
        "*  weekday of the week (as a number)  \n",
        "*  number day of year  \n",
        "*  number day of the month  \n",
        "*  weekday (as a name)  \n",
        "\n",
        "*Hint:  see w3Schools for [strftime reference](https://www.w3schools.com/python/python_datetime.asp)*\n",
        "\n"
      ]
    },
    {
      "cell_type": "code",
      "metadata": {
        "id": "zl-37Ez9ahym"
      },
      "source": [
        "def get_datetime_parts(year, month, day):\n",
        "  # create the returned variables below, adding code for each bullet point \n",
        "  from datetime import datetime\n",
        "def display_date_time(date_to_check):\n",
        "  print(date_to_check)\n",
        "  print(date_to_check.strftime(\"%Y\"))\n",
        "  print(date_to_check.strftime(\"%m\"))\n",
        "  print(date_to_check.strftime(\"%B\"))\n",
        "  print(date_to_check.strftime(\"%W\"))\n",
        "  print(date_to_check.strftime(\"%w\"))\n",
        "  print(date_to_check.strftime(\"%j\"))\n",
        "  print(date_to_check.strftime(\"%d\"))\n",
        "  print(date_to_check.strftime(\"%A\"))\n",
        "\n",
        "\n",
        "  return\n",
        "\n",
        "check_date = datetime(2021, 11, 1)\n",
        "display_date_time(check_date)\n"
      ],
      "execution_count": null,
      "outputs": []
    },
    {
      "cell_type": "markdown",
      "metadata": {
        "id": "_rpTIoSDaiBj"
      },
      "source": [
        "---\n",
        "### Exercise 8 - next 6 days\n",
        "\n",
        "Write a function called **get_next_six()** that will take a date and generate the dates of the following 6 days.  It should `append` each of the 6 days to a list and `return` the list:\n",
        "\n",
        "The days should be in the form:\n",
        "\n",
        "NUMBER DAY OF THE WEEK, MONTH NAME, FULL YEAR\n",
        "\n",
        "Hint:  to generate the days, use the function datetime.timedelta(), there is a good example of its use [here](https://www.geeksforgeeks.org/python-datetime-timedelta-function/)  "
      ]
    },
    {
      "cell_type": "code",
      "metadata": {
        "id": "1d-oXqLLb0vX"
      },
      "source": [
        "def get_next_six(year, month, day):\n",
        "  # add code to return a list of the dates of the following 6 days  \n",
        "  from datetime import datetime, timedelta\n",
        "\n",
        "def next_6_days(date_to_check):\n",
        "  print(date_to_check)\n",
        "\n",
        "  for i in range(1,7):\n",
        "    next_date = date_to_check + timedelta(days = i)\n",
        "    print(next_date.strftime(\"%A %B %Y\"))\n",
        "\n",
        "  return\n",
        "\n",
        "check_date = datetime(2022, 1, 20)\n",
        "next_6_days(check_date)"
      ],
      "execution_count": null,
      "outputs": []
    },
    {
      "cell_type": "markdown",
      "metadata": {
        "id": "pQV2NO8umBSk"
      },
      "source": [
        "# Reflection\n",
        "----\n",
        "\n",
        "## What skills have you demonstrated in completing this notebook?"
      ]
    },
    {
      "cell_type": "markdown",
      "metadata": {
        "id": "NUVvt2r0mCKq"
      },
      "source": [
        "Python datetime module has helped me to manage the complex nature of dates and times.\n"
      ]
    },
    {
      "cell_type": "markdown",
      "metadata": {
        "id": "SOrbWOuFmObq"
      },
      "source": [
        "## What caused you the most difficulty?"
      ]
    },
    {
      "cell_type": "markdown",
      "metadata": {
        "id": "G_eGng1GmO78"
      },
      "source": [
        "Your answer: The entire process was difficult, at first. "
      ]
    }
  ]
}