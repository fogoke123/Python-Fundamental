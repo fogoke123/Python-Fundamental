{
  "nbformat": 4,
  "nbformat_minor": 0,
  "metadata": {
    "colab": {
      "name": "Copy of Air quality mini-project.ipynb",
      "provenance": [],
      "collapsed_sections": [],
      "include_colab_link": true
    },
    "kernelspec": {
      "name": "python3",
      "display_name": "Python 3"
    },
    "language_info": {
      "name": "python"
    }
  },
  "cells": [
    {
      "cell_type": "markdown",
      "metadata": {
        "id": "view-in-github",
        "colab_type": "text"
      },
      "source": [
        "<a href=\"https://colab.research.google.com/github/fogoke123/Python-Fundamental/blob/main/Copy_of_Air_quality_mini_project.ipynb\" target=\"_parent\"><img src=\"https://colab.research.google.com/assets/colab-badge.svg\" alt=\"Open In Colab\"/></a>"
      ]
    },
    {
      "cell_type": "markdown",
      "source": [
        "# Clean and wrangle air quality data\n",
        "\n",
        "The following data file contains data collected at a roadside monitoring station.  You can see the data in a spreadsheet here: https://docs.google.com/spreadsheets/d/1XpAvrpuyMsKDO76EZ3kxuddBOu7cZX1Od4uEts14zco/edit?usp=sharing\n",
        "\n",
        "The data contains:\n",
        "* a heading line (Chatham Roadside) which needs to be skipped\n",
        "* dates which are sometimes left- and sometimes right-justified indicating that they are not formatted as dates, rather they are text (so need to be converted to dates)\n",
        "* times which are not all in the same format\n",
        "* Nitrogen Dioxide levels which are, again, text and sometimes contain nodata\n",
        "* Status which is always the same\n",
        "\n",
        "\n",
        "\n"
      ],
      "metadata": {
        "id": "8qnlsapq24Df"
      }
    },
    {
      "cell_type": "markdown",
      "source": [
        "### Project - clean, sort and wrangle the data\n",
        "\n",
        "Read the dataset into a dataframe, skipping the first row   \n",
        "Convert dates to date format  \n",
        "Remove rows with nodata in the Nitrogen dioxide column  \n",
        "Convert the Nitrogen dioxide levels values to float type  \n",
        "Sort by Nitrogen dioxide level  \n",
        "Create a new column for 'Weekdays' (use df['Date'].dt.weekday)  \n",
        "Rename the column Nitrogen dioxide level to NO2 Level (V ug/m2)  \n",
        "Remove the Status column  \n",
        "\n",
        "The dataset can be viewed here:  https://drive.google.com/file/d/1aYmBf9il2dWA-EROvbYRCZ1rU2t7JwvJ/view?usp=sharing  and the data accessed here: https://drive.google.com/uc?id=1QSNJ3B1ku8kjXsA_tCBh4fbpDK7wVLAA This is a .csv file  \n",
        "\n",
        "**NOTE:** Some useful references are included at the bottom of this spreadsheet.\n",
        "\n",
        "Use the code cell below to work your code."
      ],
      "metadata": {
        "id": "SSvLiFnp4LjG"
      }
    },
    {
      "cell_type": "code",
      "source": [
        "import numpy as np\n",
        "import pandas as pd\n",
        "from datetime import datetime\n",
        "\n",
        "def air_quality():\n",
        "\n",
        "  air_data = pd.read_csv(\"https://drive.google.com/uc?id=1QSNJ3B1ku8kjXsA_tCBh4fbpDK7wVLAA\",skiprows = [0])\n",
        "  air_data.Date = pd.to_datetime(air_data.Date)\n",
        "  air_details_drop = air_data.dropna(subset = ['Nitrogen dioxide'])\n",
        "  air_data['Nitrogen dioxide'] = pd.to_numeric(air_data['Nitrogen dioxide'],errors = 'coerce')\n",
        "  air_sort = air_data.sort_values('Nitrogen dioxide',ascending = True)\n",
        "  air_sort['DayofWeek'] = air_sort['Date'].dt.day_name()\n",
        "  air_rename = air_sort.rename(columns={\"Nitrogen dioxide\": \"NO2 Level(V ug/m2)\"}, inplace = True)\n",
        "  drop_column1 = air_sort.drop(['Status'], axis=1)\n",
        "\n",
        "  air_data.info()\n",
        "  print(air_details_drop)\n",
        "  print(air_details)\n",
        "  print(air_sort)\n",
        "  print(air_rename)\n",
        "  print(drop_column1)\n",
        "\n",
        "\n",
        "air_quality()"
      ],
      "metadata": {
        "id": "txM4TIRUHhsJ",
        "colab": {
          "base_uri": "https://localhost:8080/"
        },
        "outputId": "5b261160-e06c-44f3-96b2-20fd6b7698e8"
      },
      "execution_count": 135,
      "outputs": [
        {
          "output_type": "stream",
          "name": "stdout",
          "text": [
            "<class 'pandas.core.frame.DataFrame'>\n",
            "RangeIndex: 8784 entries, 0 to 8783\n",
            "Data columns (total 4 columns):\n",
            " #   Column            Non-Null Count  Dtype         \n",
            "---  ------            --------------  -----         \n",
            " 0   Date              8784 non-null   datetime64[ns]\n",
            " 1   Time              8784 non-null   object        \n",
            " 2   Nitrogen dioxide  8672 non-null   float64       \n",
            " 3   Status            8784 non-null   object        \n",
            "dtypes: datetime64[ns](1), float64(1), object(2)\n",
            "memory usage: 274.6+ KB\n",
            "           Date      Time Nitrogen dioxide   Status\n",
            "0    2020-01-01      1:00         35.65193  V µg/m³\n",
            "1    2020-01-01      2:00         37.99122  V µg/m³\n",
            "2    2020-01-01      3:00         35.70462  V µg/m³\n",
            "3    2020-01-01      4:00          36.5796  V µg/m³\n",
            "4    2020-01-01      5:00          32.9441  V µg/m³\n",
            "...         ...       ...              ...      ...\n",
            "8779 2020-12-31     20:00         11.22419  V µg/m³\n",
            "8780 2020-12-31     21:00         11.17037  V µg/m³\n",
            "8781 2020-12-31     22:00          9.54137  V µg/m³\n",
            "8782 2020-12-31     23:00          8.21683  V µg/m³\n",
            "8783 2020-12-31  24:00:00          8.16537  V µg/m³\n",
            "\n",
            "[8784 rows x 4 columns]\n",
            "<function air_details at 0x7f4110345680>\n",
            "           Date   Time  NO2 Level(V ug/m2)   Status  DayofWeek\n",
            "3442 2020-05-23  11:00             0.31041  V µg/m³   Saturday\n",
            "5844 2020-08-31  13:00             0.38390  V µg/m³     Monday\n",
            "7684 2020-11-16   5:00             0.40116  V µg/m³     Monday\n",
            "7756 2020-11-19   5:00             0.40229  V µg/m³   Thursday\n",
            "3440 2020-05-23   9:00             0.41544  V µg/m³   Saturday\n",
            "...         ...    ...                 ...      ...        ...\n",
            "8202 2020-07-12  19:00                 NaN  V µg/m³     Sunday\n",
            "8203 2020-07-12  20:00                 NaN  V µg/m³     Sunday\n",
            "8218 2020-08-12  11:00                 NaN  V µg/m³  Wednesday\n",
            "8595 2020-12-24   4:00                 NaN  V µg/m³   Thursday\n",
            "8597 2020-12-24   6:00                 NaN  V µg/m³   Thursday\n",
            "\n",
            "[8784 rows x 5 columns]\n",
            "None\n",
            "           Date   Time  NO2 Level(V ug/m2)  DayofWeek\n",
            "3442 2020-05-23  11:00             0.31041   Saturday\n",
            "5844 2020-08-31  13:00             0.38390     Monday\n",
            "7684 2020-11-16   5:00             0.40116     Monday\n",
            "7756 2020-11-19   5:00             0.40229   Thursday\n",
            "3440 2020-05-23   9:00             0.41544   Saturday\n",
            "...         ...    ...                 ...        ...\n",
            "8202 2020-07-12  19:00                 NaN     Sunday\n",
            "8203 2020-07-12  20:00                 NaN     Sunday\n",
            "8218 2020-08-12  11:00                 NaN  Wednesday\n",
            "8595 2020-12-24   4:00                 NaN   Thursday\n",
            "8597 2020-12-24   6:00                 NaN   Thursday\n",
            "\n",
            "[8784 rows x 4 columns]\n"
          ]
        }
      ]
    },
    {
      "cell_type": "markdown",
      "source": [
        "### Expand the dataset and show summary statistics for larger dataset\n",
        "---\n",
        "\n",
        "There is a second data set here covering the year 2021:  https://drive.google.com/uc?id=1aYmBf9il2dWA-EROvbYRCZ1rU2t7JwvJ  \n",
        "\n",
        "Concatenate the two datasets to expand it to 2020 and 2021.  \n",
        "\n",
        "Before you can concatenate the datasets you will need to clean and wrangle the second dataset in the same way as the first.  Use the code cell below.  Give the second dataset a different name. \n",
        "\n",
        "After the datasets have been concatenated, group the data by Weekdays and show summary statistics by day of the week."
      ],
      "metadata": {
        "id": "jnzAnbsmHk4B"
      }
    },
    {
      "cell_type": "code",
      "source": [
        "import numpy as np\n",
        "import pandas as pd\n",
        "from datetime import datetime\n",
        "\n",
        "\n",
        "def air_details():\n",
        "\n",
        "  air_details = pd.read_csv(\"https://drive.google.com/uc?id=1aYmBf9il2dWA-EROvbYRCZ1rU2t7JwvJ\",skiprows = [0])\n",
        "  air_details.Date = pd.to_datetime(air_details.Date)\n",
        "  air_details_drop = air_details.dropna(subset = ['Nitrogen dioxide'])\n",
        "  air_details['Nitrogen dioxide'] = pd.to_numeric(air_details['Nitrogen dioxide'],errors = 'coerce')\n",
        "  air_sort = air_details.sort_values('Nitrogen dioxide',ascending = True)\n",
        "  air_sort['DayofWeek'] = air_sort['Date'].dt.day_name()\n",
        "  air_rename = air_sort.rename(columns={\"Nitrogen dioxide\": \"NO2 Level(V ug/m2)\"}, inplace = True)\n",
        "  drop_column2 = air_sort.drop(['Status'], axis=1)\n",
        "\n",
        " \n",
        "  air_details.info()\n",
        "  print(air_details_drop)\n",
        "  print(air_details)\n",
        "  print(air_sort)\n",
        "  print(air_rename)\n",
        "  print(drop_column2)\n",
        "  \n",
        "  \n",
        "\n",
        "\n",
        "\n",
        "air_details()"
      ],
      "metadata": {
        "id": "Gz4u6trsIQJ6",
        "colab": {
          "base_uri": "https://localhost:8080/"
        },
        "outputId": "f0b44725-3164-4608-fea1-9fa0ee0860da"
      },
      "execution_count": 136,
      "outputs": [
        {
          "output_type": "stream",
          "name": "stdout",
          "text": [
            "<class 'pandas.core.frame.DataFrame'>\n",
            "RangeIndex: 8760 entries, 0 to 8759\n",
            "Data columns (total 4 columns):\n",
            " #   Column            Non-Null Count  Dtype         \n",
            "---  ------            --------------  -----         \n",
            " 0   Date              8760 non-null   datetime64[ns]\n",
            " 1   Time              8760 non-null   object        \n",
            " 2   Nitrogen dioxide  8680 non-null   float64       \n",
            " 3   Status            8760 non-null   object        \n",
            "dtypes: datetime64[ns](1), float64(1), object(2)\n",
            "memory usage: 273.9+ KB\n",
            "           Date   Time Nitrogen dioxide   Status\n",
            "0    2021-01-01  01:00         16.58269  V µg/m³\n",
            "1    2021-01-01  02:00         14.00478  V µg/m³\n",
            "2    2021-01-01  03:00         15.35208  V µg/m³\n",
            "3    2021-01-01  04:00         13.49688  V µg/m³\n",
            "4    2021-01-01  05:00         12.47511  V µg/m³\n",
            "...         ...    ...              ...      ...\n",
            "8755 2021-12-31  20:00         12.51492  P µg/m³\n",
            "8756 2021-12-31  21:00         14.00046  P µg/m³\n",
            "8757 2021-12-31  22:00         10.04780  P µg/m³\n",
            "8758 2021-12-31  23:00          3.49557  P µg/m³\n",
            "8759 2021-12-31  24:00          4.15682  P µg/m³\n",
            "\n",
            "[8760 rows x 4 columns]\n",
            "           Date   Time  Nitrogen dioxide   Status\n",
            "0    2021-01-01  01:00          16.58269  V µg/m³\n",
            "1    2021-01-01  02:00          14.00478  V µg/m³\n",
            "2    2021-01-01  03:00          15.35208  V µg/m³\n",
            "3    2021-01-01  04:00          13.49688  V µg/m³\n",
            "4    2021-01-01  05:00          12.47511  V µg/m³\n",
            "...         ...    ...               ...      ...\n",
            "8755 2021-12-31  20:00          12.51492  P µg/m³\n",
            "8756 2021-12-31  21:00          14.00046  P µg/m³\n",
            "8757 2021-12-31  22:00          10.04780  P µg/m³\n",
            "8758 2021-12-31  23:00           3.49557  P µg/m³\n",
            "8759 2021-12-31  24:00           4.15682  P µg/m³\n",
            "\n",
            "[8760 rows x 4 columns]\n",
            "           Date   Time  NO2 Level(V ug/m2)   Status  DayofWeek\n",
            "7177 2021-10-27  02:00            -0.77743  P µg/m³  Wednesday\n",
            "7009 2021-10-20  02:00            -0.54076  P µg/m³  Wednesday\n",
            "7107 2021-10-24  04:00            -0.41740  P µg/m³     Sunday\n",
            "6674 2021-06-10  03:00            -0.31174  P µg/m³   Thursday\n",
            "7178 2021-10-27  03:00            -0.28544  P µg/m³  Wednesday\n",
            "...         ...    ...                 ...      ...        ...\n",
            "6373 2021-09-23  14:00                 NaN  V µg/m³   Thursday\n",
            "6680 2021-06-10  09:00                 NaN  P µg/m³   Thursday\n",
            "7017 2021-10-20  10:00                 NaN  P µg/m³  Wednesday\n",
            "8026 2021-01-12  11:00                 NaN  P µg/m³    Tuesday\n",
            "8387 2021-12-16  12:00                 NaN  P µg/m³   Thursday\n",
            "\n",
            "[8760 rows x 5 columns]\n",
            "None\n",
            "           Date   Time  NO2 Level(V ug/m2)  DayofWeek\n",
            "7177 2021-10-27  02:00            -0.77743  Wednesday\n",
            "7009 2021-10-20  02:00            -0.54076  Wednesday\n",
            "7107 2021-10-24  04:00            -0.41740     Sunday\n",
            "6674 2021-06-10  03:00            -0.31174   Thursday\n",
            "7178 2021-10-27  03:00            -0.28544  Wednesday\n",
            "...         ...    ...                 ...        ...\n",
            "6373 2021-09-23  14:00                 NaN   Thursday\n",
            "6680 2021-06-10  09:00                 NaN   Thursday\n",
            "7017 2021-10-20  10:00                 NaN  Wednesday\n",
            "8026 2021-01-12  11:00                 NaN    Tuesday\n",
            "8387 2021-12-16  12:00                 NaN   Thursday\n",
            "\n",
            "[8760 rows x 4 columns]\n"
          ]
        }
      ]
    },
    {
      "cell_type": "code",
      "source": [
        "import numpy as np\n",
        "import pandas as pd\n",
        "from datetime import datetime\n",
        "\n",
        "def cleaned_combine():\n",
        "  pd.concat([air_quality, air_details], ignore_index = True)\n",
        "\n",
        "cleaned_combine()"
      ],
      "metadata": {
        "colab": {
          "base_uri": "https://localhost:8080/",
          "height": 346
        },
        "id": "x8UNhJpMUiKb",
        "outputId": "31e08608-40ea-49e4-e739-3f71afc05bfa"
      },
      "execution_count": 149,
      "outputs": [
        {
          "output_type": "error",
          "ename": "TypeError",
          "evalue": "ignored",
          "traceback": [
            "\u001b[0;31m---------------------------------------------------------------------------\u001b[0m",
            "\u001b[0;31mTypeError\u001b[0m                                 Traceback (most recent call last)",
            "\u001b[0;32m<ipython-input-149-7febbeca3d8d>\u001b[0m in \u001b[0;36m<module>\u001b[0;34m()\u001b[0m\n\u001b[1;32m      6\u001b[0m   \u001b[0mpd\u001b[0m\u001b[0;34m.\u001b[0m\u001b[0mconcat\u001b[0m\u001b[0;34m(\u001b[0m\u001b[0;34m[\u001b[0m\u001b[0mair_quality\u001b[0m\u001b[0;34m,\u001b[0m \u001b[0mair_details\u001b[0m\u001b[0;34m]\u001b[0m\u001b[0;34m,\u001b[0m \u001b[0mignore_index\u001b[0m \u001b[0;34m=\u001b[0m \u001b[0;32mTrue\u001b[0m\u001b[0;34m)\u001b[0m\u001b[0;34m\u001b[0m\u001b[0;34m\u001b[0m\u001b[0m\n\u001b[1;32m      7\u001b[0m \u001b[0;34m\u001b[0m\u001b[0m\n\u001b[0;32m----> 8\u001b[0;31m \u001b[0mcleaned_combine\u001b[0m\u001b[0;34m(\u001b[0m\u001b[0;34m)\u001b[0m\u001b[0;34m\u001b[0m\u001b[0;34m\u001b[0m\u001b[0m\n\u001b[0m",
            "\u001b[0;32m<ipython-input-149-7febbeca3d8d>\u001b[0m in \u001b[0;36mcleaned_combine\u001b[0;34m()\u001b[0m\n\u001b[1;32m      4\u001b[0m \u001b[0;34m\u001b[0m\u001b[0m\n\u001b[1;32m      5\u001b[0m \u001b[0;32mdef\u001b[0m \u001b[0mcleaned_combine\u001b[0m\u001b[0;34m(\u001b[0m\u001b[0;34m)\u001b[0m\u001b[0;34m:\u001b[0m\u001b[0;34m\u001b[0m\u001b[0;34m\u001b[0m\u001b[0m\n\u001b[0;32m----> 6\u001b[0;31m   \u001b[0mpd\u001b[0m\u001b[0;34m.\u001b[0m\u001b[0mconcat\u001b[0m\u001b[0;34m(\u001b[0m\u001b[0;34m[\u001b[0m\u001b[0mair_quality\u001b[0m\u001b[0;34m,\u001b[0m \u001b[0mair_details\u001b[0m\u001b[0;34m]\u001b[0m\u001b[0;34m,\u001b[0m \u001b[0mignore_index\u001b[0m \u001b[0;34m=\u001b[0m \u001b[0;32mTrue\u001b[0m\u001b[0;34m)\u001b[0m\u001b[0;34m\u001b[0m\u001b[0;34m\u001b[0m\u001b[0m\n\u001b[0m\u001b[1;32m      7\u001b[0m \u001b[0;34m\u001b[0m\u001b[0m\n\u001b[1;32m      8\u001b[0m \u001b[0mcleaned_combine\u001b[0m\u001b[0;34m(\u001b[0m\u001b[0;34m)\u001b[0m\u001b[0;34m\u001b[0m\u001b[0;34m\u001b[0m\u001b[0m\n",
            "\u001b[0;32m/usr/local/lib/python3.7/dist-packages/pandas/util/_decorators.py\u001b[0m in \u001b[0;36mwrapper\u001b[0;34m(*args, **kwargs)\u001b[0m\n\u001b[1;32m    309\u001b[0m                     \u001b[0mstacklevel\u001b[0m\u001b[0;34m=\u001b[0m\u001b[0mstacklevel\u001b[0m\u001b[0;34m,\u001b[0m\u001b[0;34m\u001b[0m\u001b[0;34m\u001b[0m\u001b[0m\n\u001b[1;32m    310\u001b[0m                 )\n\u001b[0;32m--> 311\u001b[0;31m             \u001b[0;32mreturn\u001b[0m \u001b[0mfunc\u001b[0m\u001b[0;34m(\u001b[0m\u001b[0;34m*\u001b[0m\u001b[0margs\u001b[0m\u001b[0;34m,\u001b[0m \u001b[0;34m**\u001b[0m\u001b[0mkwargs\u001b[0m\u001b[0;34m)\u001b[0m\u001b[0;34m\u001b[0m\u001b[0;34m\u001b[0m\u001b[0m\n\u001b[0m\u001b[1;32m    312\u001b[0m \u001b[0;34m\u001b[0m\u001b[0m\n\u001b[1;32m    313\u001b[0m         \u001b[0;32mreturn\u001b[0m \u001b[0mwrapper\u001b[0m\u001b[0;34m\u001b[0m\u001b[0;34m\u001b[0m\u001b[0m\n",
            "\u001b[0;32m/usr/local/lib/python3.7/dist-packages/pandas/core/reshape/concat.py\u001b[0m in \u001b[0;36mconcat\u001b[0;34m(objs, axis, join, ignore_index, keys, levels, names, verify_integrity, sort, copy)\u001b[0m\n\u001b[1;32m    302\u001b[0m         \u001b[0mverify_integrity\u001b[0m\u001b[0;34m=\u001b[0m\u001b[0mverify_integrity\u001b[0m\u001b[0;34m,\u001b[0m\u001b[0;34m\u001b[0m\u001b[0;34m\u001b[0m\u001b[0m\n\u001b[1;32m    303\u001b[0m         \u001b[0mcopy\u001b[0m\u001b[0;34m=\u001b[0m\u001b[0mcopy\u001b[0m\u001b[0;34m,\u001b[0m\u001b[0;34m\u001b[0m\u001b[0;34m\u001b[0m\u001b[0m\n\u001b[0;32m--> 304\u001b[0;31m         \u001b[0msort\u001b[0m\u001b[0;34m=\u001b[0m\u001b[0msort\u001b[0m\u001b[0;34m,\u001b[0m\u001b[0;34m\u001b[0m\u001b[0;34m\u001b[0m\u001b[0m\n\u001b[0m\u001b[1;32m    305\u001b[0m     )\n\u001b[1;32m    306\u001b[0m \u001b[0;34m\u001b[0m\u001b[0m\n",
            "\u001b[0;32m/usr/local/lib/python3.7/dist-packages/pandas/core/reshape/concat.py\u001b[0m in \u001b[0;36m__init__\u001b[0;34m(self, objs, axis, join, keys, levels, names, ignore_index, verify_integrity, copy, sort)\u001b[0m\n\u001b[1;32m    382\u001b[0m                     \u001b[0;34m\"only Series and DataFrame objs are valid\"\u001b[0m\u001b[0;34m\u001b[0m\u001b[0;34m\u001b[0m\u001b[0m\n\u001b[1;32m    383\u001b[0m                 )\n\u001b[0;32m--> 384\u001b[0;31m                 \u001b[0;32mraise\u001b[0m \u001b[0mTypeError\u001b[0m\u001b[0;34m(\u001b[0m\u001b[0mmsg\u001b[0m\u001b[0;34m)\u001b[0m\u001b[0;34m\u001b[0m\u001b[0;34m\u001b[0m\u001b[0m\n\u001b[0m\u001b[1;32m    385\u001b[0m \u001b[0;34m\u001b[0m\u001b[0m\n\u001b[1;32m    386\u001b[0m             \u001b[0mndims\u001b[0m\u001b[0;34m.\u001b[0m\u001b[0madd\u001b[0m\u001b[0;34m(\u001b[0m\u001b[0mobj\u001b[0m\u001b[0;34m.\u001b[0m\u001b[0mndim\u001b[0m\u001b[0;34m)\u001b[0m\u001b[0;34m\u001b[0m\u001b[0;34m\u001b[0m\u001b[0m\n",
            "\u001b[0;31mTypeError\u001b[0m: cannot concatenate object of type '<class 'function'>'; only Series and DataFrame objs are valid"
          ]
        }
      ]
    },
    {
      "cell_type": "markdown",
      "source": [
        "### Helpful references\n",
        "---\n",
        "Skipping rows when reading datasets:  \n",
        "https://www.geeksforgeeks.org/how-to-skip-rows-while-reading-csv-file-using-pandas/  \n",
        "\n",
        "Converting strings to dates:  \n",
        "https://www.geeksforgeeks.org/convert-the-column-type-from-string-to-datetime-format-in-pandas-dataframe/\n",
        "\n",
        "Dropping rows where data has a given value:  \n",
        "https://www.datasciencemadesimple.com/drop-delete-rows-conditions-python-pandas/  \n",
        "(see section Drop a row or observation by condition) \n",
        "\n",
        "Convert a column of strings to a column of floats:\n",
        "https://datatofish.com/convert-string-to-float-dataframe/  \n",
        "\n",
        "Create a new column from data converted in an existing column:  \n",
        "https://www.geeksforgeeks.org/create-a-new-column-in-pandas-dataframe-based-on-the-existing-columns/  \n",
        "\n",
        "Rename a column:  \n",
        "https://pandas.pydata.org/docs/reference/api/pandas.DataFrame.rename.html  \n",
        "\n",
        "Remove a column by name:  \n",
        "https://www.kite.com/python/answers/how-to-delete-columns-from-a-pandas-%60dataframe%60-by-column-name-in-python#:~:text=Use%20the%20del%20keyword%20to,the%20name%20column_name%20from%20DataFrame%20.\n"
      ],
      "metadata": {
        "id": "hkj-Ofus_D6_"
      }
    }
  ]
}